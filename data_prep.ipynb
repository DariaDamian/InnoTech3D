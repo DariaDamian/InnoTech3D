{
 "cells": [
  {
   "cell_type": "markdown",
   "id": "2fc96693",
   "metadata": {},
   "source": [
    "### Imports"
   ]
  },
  {
   "cell_type": "code",
   "execution_count": 2,
   "id": "03019d05",
   "metadata": {},
   "outputs": [],
   "source": [
    "import open3d as o3d\n",
    "from o3d_tools.visualize import PointCloudProject\n",
    "import numpy as np\n",
    "import pandas as pd\n",
    "from sklearn.model_selection import train_test_split"
   ]
  },
  {
   "cell_type": "markdown",
   "id": "20c4f114",
   "metadata": {},
   "source": [
    "### Load data as point cloud objects"
   ]
  },
  {
   "cell_type": "code",
   "execution_count": 3,
   "id": "aa2e34dd",
   "metadata": {},
   "outputs": [],
   "source": [
    "project1 = PointCloudProject(project='Project1') ; project2 = PointCloudProject(project='Project2')\n",
    "project3 = PointCloudProject(project='Project3') ; project4 = PointCloudProject(project='Project4')"
   ]
  },
  {
   "cell_type": "markdown",
   "id": "6630c817",
   "metadata": {},
   "source": [
    "### Extract bounding box data\n",
    "**And check which types of objects (pipes etc.) are in each of the 4 projects**"
   ]
  },
  {
   "cell_type": "code",
   "execution_count": 4,
   "id": "29919c8c",
   "metadata": {},
   "outputs": [
    {
     "name": "stdout",
     "output_type": "stream",
     "text": [
      "Types of objects in Project 1: ['Structural_ColumnBeam', 'HVAC_Duct', 'Pipe', 'Structural_IBeam']\n",
      "Types of objects in Project 2: ['Structural_ColumnBeam', 'Pipe', 'Structural_IBeam']\n",
      "Types of objects in Project 3: ['Structural_ColumnBeam']\n",
      "Types of objects in Project 4: ['Structural_IBeam']\n"
     ]
    }
   ],
   "source": [
    "objs1 = project1.objects_df\n",
    "\n",
    "print(f\"Types of objects in Project 1: {list(objs1.keys())}\")\n",
    "pipes1 = objs1[\"Pipe\"]\n",
    "scbs1 = objs1[\"Structural_ColumnBeam\"]\n",
    "sibs1 = objs1[\"Structural_IBeam\"]\n",
    "hvducts = objs1[\"HVAC_Duct\"]\n",
    "\n",
    "objs2 = project2.objects_df\n",
    "\n",
    "print(f\"Types of objects in Project 2: {list(objs2.keys())}\")\n",
    "pipes2 = objs2[\"Pipe\"]\n",
    "scbs2 = objs2[\"Structural_ColumnBeam\"]\n",
    "sibs2 = objs2[\"Structural_IBeam\"]\n",
    "\n",
    "objs3 = project3.objects_df\n",
    "\n",
    "print(f\"Types of objects in Project 3: {list(objs3.keys())}\")\n",
    "scbs3 = objs3[\"Structural_ColumnBeam\"]\n",
    "\n",
    "objs4 = project4.objects_df\n",
    "\n",
    "print(f\"Types of objects in Project 4: {list(objs4.keys())}\")\n",
    "sibs4 = objs4[\"Structural_IBeam\"]"
   ]
  },
  {
   "cell_type": "markdown",
   "id": "34d93958",
   "metadata": {},
   "source": [
    "### Join bounding box data\n",
    "**Currently we have bounding box data grouped by different object types and by projects, merge all this bounding box data into a single dataframe**"
   ]
  },
  {
   "cell_type": "code",
   "execution_count": 7,
   "id": "2ce6135e",
   "metadata": {},
   "outputs": [],
   "source": [
    "boxes1 = pd.concat([scbs1, hvducts, pipes1, sibs1])\n",
    "boxes2 = pd.concat([scbs2, pipes2, sibs2])\n",
    "boxes3 = scbs3\n",
    "boxes4 = sibs4\n",
    "\n",
    "boxes = [boxes1, boxes2, boxes3, boxes4]\n",
    "\n",
    "for i in range(len(boxes)):\n",
    "    boxes[i].rename(columns={\" Label\": \"label\", \" BB.Min.X \" : \"min_x\", \" BB.Min.Y \" : \"min_y\", \" BB.Min.Z \" : \"min_z\",\n",
    "                         \" BB.Max.X \" : \"max_x\", \" BB.Max.Y \" : \"max_y\", \" BB.Max.Z\" : \"max_z\"}, inplace=True)\n",
    "    \n",
    "box_data = pd.concat(boxes)"
   ]
  },
  {
   "cell_type": "code",
   "execution_count": 10,
   "id": "3332ff99",
   "metadata": {},
   "outputs": [
    {
     "data": {
      "text/html": [
       "<div>\n",
       "<style scoped>\n",
       "    .dataframe tbody tr th:only-of-type {\n",
       "        vertical-align: middle;\n",
       "    }\n",
       "\n",
       "    .dataframe tbody tr th {\n",
       "        vertical-align: top;\n",
       "    }\n",
       "\n",
       "    .dataframe thead th {\n",
       "        text-align: right;\n",
       "    }\n",
       "</style>\n",
       "<table border=\"1\" class=\"dataframe\">\n",
       "  <thead>\n",
       "    <tr style=\"text-align: right;\">\n",
       "      <th></th>\n",
       "      <th>ID</th>\n",
       "      <th>label</th>\n",
       "      <th>min_x</th>\n",
       "      <th>min_y</th>\n",
       "      <th>min_z</th>\n",
       "      <th>max_x</th>\n",
       "      <th>max_y</th>\n",
       "      <th>max_z</th>\n",
       "    </tr>\n",
       "  </thead>\n",
       "  <tbody>\n",
       "    <tr>\n",
       "      <th>0</th>\n",
       "      <td>d442ca7c-770d-4bc2-a565-81b971e1b3b3</td>\n",
       "      <td>Structural_ColumnBeam</td>\n",
       "      <td>-221.953285</td>\n",
       "      <td>334.091068</td>\n",
       "      <td>83.833336</td>\n",
       "      <td>-219.536613</td>\n",
       "      <td>336.507724</td>\n",
       "      <td>98.874596</td>\n",
       "    </tr>\n",
       "    <tr>\n",
       "      <th>1</th>\n",
       "      <td>de9a038a-e106-48fa-ac76-3f83dfa1503a</td>\n",
       "      <td>Structural_ColumnBeam</td>\n",
       "      <td>-221.953285</td>\n",
       "      <td>315.091068</td>\n",
       "      <td>83.833336</td>\n",
       "      <td>-219.536613</td>\n",
       "      <td>317.507724</td>\n",
       "      <td>98.874611</td>\n",
       "    </tr>\n",
       "    <tr>\n",
       "      <th>2</th>\n",
       "      <td>b351dae6-0cf2-45f2-bbfd-ab9e607bce0d</td>\n",
       "      <td>HVAC_Duct</td>\n",
       "      <td>-206.833503</td>\n",
       "      <td>337.267214</td>\n",
       "      <td>95.083333</td>\n",
       "      <td>-203.333503</td>\n",
       "      <td>341.100548</td>\n",
       "      <td>98.250000</td>\n",
       "    </tr>\n",
       "    <tr>\n",
       "      <th>3</th>\n",
       "      <td>62e75328-ddda-48d4-87c4-210afb055eb5</td>\n",
       "      <td>HVAC_Duct</td>\n",
       "      <td>-204.791837</td>\n",
       "      <td>332.154501</td>\n",
       "      <td>94.708333</td>\n",
       "      <td>-200.041837</td>\n",
       "      <td>338.154501</td>\n",
       "      <td>98.625000</td>\n",
       "    </tr>\n",
       "    <tr>\n",
       "      <th>4</th>\n",
       "      <td>64ca25ff-ebc8-4e83-9585-756d6b711a3c</td>\n",
       "      <td>HVAC_Duct</td>\n",
       "      <td>-204.791837</td>\n",
       "      <td>327.477417</td>\n",
       "      <td>94.708333</td>\n",
       "      <td>-200.041837</td>\n",
       "      <td>334.144084</td>\n",
       "      <td>98.625000</td>\n",
       "    </tr>\n",
       "  </tbody>\n",
       "</table>\n",
       "</div>"
      ],
      "text/plain": [
       "                                     ID                  label       min_x  \\\n",
       "0  d442ca7c-770d-4bc2-a565-81b971e1b3b3  Structural_ColumnBeam -221.953285   \n",
       "1  de9a038a-e106-48fa-ac76-3f83dfa1503a  Structural_ColumnBeam -221.953285   \n",
       "2  b351dae6-0cf2-45f2-bbfd-ab9e607bce0d              HVAC_Duct -206.833503   \n",
       "3  62e75328-ddda-48d4-87c4-210afb055eb5              HVAC_Duct -204.791837   \n",
       "4  64ca25ff-ebc8-4e83-9585-756d6b711a3c              HVAC_Duct -204.791837   \n",
       "\n",
       "        min_y      min_z       max_x       max_y      max_z  \n",
       "0  334.091068  83.833336 -219.536613  336.507724  98.874596  \n",
       "1  315.091068  83.833336 -219.536613  317.507724  98.874611  \n",
       "2  337.267214  95.083333 -203.333503  341.100548  98.250000  \n",
       "3  332.154501  94.708333 -200.041837  338.154501  98.625000  \n",
       "4  327.477417  94.708333 -200.041837  334.144084  98.625000  "
      ]
     },
     "execution_count": 10,
     "metadata": {},
     "output_type": "execute_result"
    }
   ],
   "source": [
    "box_data.head()"
   ]
  },
  {
   "cell_type": "markdown",
   "id": "deb951e6",
   "metadata": {},
   "source": [
    "### Map bounding boxes to their corresponding points\n",
    "**Create a dictionary that maps object ids to the points that make up these objects using PointCloudProject.pcd.crop() method**"
   ]
  },
  {
   "cell_type": "code",
   "execution_count": 13,
   "id": "b6124e82",
   "metadata": {},
   "outputs": [],
   "source": [
    "ids_to_points = {}\n",
    "\n",
    "projects = [project1, project2, project3, project4]\n",
    "\n",
    "for proj_id, box in enumerate(boxes):\n",
    "    \n",
    "    for i, ID in enumerate(box[\"ID\"]):\n",
    "        \n",
    "        proj = projects[proj_id]\n",
    "        \n",
    "        # .pcd.crop() method expects this bounding box object, create it from the raw min max values\n",
    "        bb = o3d.geometry.AxisAlignedBoundingBox((box[[\"min_x\", \"min_y\", \"min_z\"]].iloc[i]).to_numpy(), \n",
    "                                    (box[[\"max_x\", \"max_y\", \"max_z\"]].iloc[i]).to_numpy())\n",
    "        \n",
    "        points_of_id = project1.pcd.crop(bb)\n",
    "        \n",
    "        # convert the pointcloud object into a numpy array\n",
    "        # join coordinates and color data into a single 6d nparray for each point\n",
    "        points_coords = np.asarray(points_of_id.points)\n",
    "        points_colors = np.asarray(points_of_id.colors)\n",
    "        points_arr = np.concatenate((points_coords, points_colors), axis = 1)\n",
    "        \n",
    "        ids_to_points[ID] = points_arr\n",
    "        "
   ]
  },
  {
   "cell_type": "code",
   "execution_count": 16,
   "id": "86dd4ff3",
   "metadata": {},
   "outputs": [
    {
     "data": {
      "text/plain": [
       "(13283, 6)"
      ]
     },
     "execution_count": 16,
     "metadata": {},
     "output_type": "execute_result"
    }
   ],
   "source": [
    "ids_to_points['d442ca7c-770d-4bc2-a565-81b971e1b3b3'].shape"
   ]
  }
 ],
 "metadata": {
  "kernelspec": {
   "display_name": "Python 3 (ipykernel)",
   "language": "python",
   "name": "python3"
  },
  "language_info": {
   "codemirror_mode": {
    "name": "ipython",
    "version": 3
   },
   "file_extension": ".py",
   "mimetype": "text/x-python",
   "name": "python",
   "nbconvert_exporter": "python",
   "pygments_lexer": "ipython3",
   "version": "3.9.18"
  }
 },
 "nbformat": 4,
 "nbformat_minor": 5
}
