{
 "cells": [
  {
   "cell_type": "code",
   "execution_count": 50,
   "id": "8256d1e1",
   "metadata": {},
   "outputs": [],
   "source": [
    "import open3d as o3d\n",
    "from o3d_tools.visualize import PointCloudProject\n",
    "\n",
    "import numpy as np"
   ]
  },
  {
   "cell_type": "code",
   "execution_count": 31,
   "id": "98a94156",
   "metadata": {},
   "outputs": [],
   "source": [
    "project1 = PointCloudProject(project='Project1')\n",
    "project2 = PointCloudProject(project='Project2')\n",
    "project3 = PointCloudProject(project='Project3')\n",
    "project4 = PointCloudProject(project='Project4')"
   ]
  },
  {
   "cell_type": "code",
   "execution_count": 45,
   "id": "3865821d",
   "metadata": {},
   "outputs": [
    {
     "name": "stdout",
     "output_type": "stream",
     "text": [
      "Types of objects in Project 1: ['Structural_ColumnBeam', 'HVAC_Duct', 'Pipe', 'Structural_IBeam']\n",
      "Types of objects in Project 2: ['Structural_ColumnBeam', 'Pipe', 'Structural_IBeam']\n",
      "Types of objects in Project 3: ['Structural_ColumnBeam']\n",
      "Types of objects in Project 4: ['Structural_IBeam']\n"
     ]
    }
   ],
   "source": [
    "objs1 = project1.objects_df\n",
    "\n",
    "print(f\"Types of objects in Project 1: {list(objs1.keys())}\")\n",
    "pipes1 = objs1[\"Pipe\"]\n",
    "scbs1 = objs1[\"Structural_ColumnBeam\"]\n",
    "sibs1 = objs1[\"Structural_IBeam\"]\n",
    "hvducts = objs1[\"HVAC_Duct\"]\n",
    "\n",
    "objs2 = project2.objects_df\n",
    "\n",
    "print(f\"Types of objects in Project 2: {list(objs2.keys())}\")\n",
    "pipes2 = objs2[\"Pipe\"]\n",
    "scbs2 = objs2[\"Structural_ColumnBeam\"]\n",
    "sibs2 = objs2[\"Structural_IBeam\"]\n",
    "\n",
    "objs3 = project3.objects_df\n",
    "\n",
    "print(f\"Types of objects in Project 3: {list(objs3.keys())}\")\n",
    "scbs3 = objs3[\"Structural_ColumnBeam\"]\n",
    "\n",
    "objs4 = project4.objects_df\n",
    "\n",
    "print(f\"Types of objects in Project 4: {list(objs4.keys())}\")\n",
    "sibs4 = objs4[\"Structural_IBeam\"]"
   ]
  },
  {
   "cell_type": "code",
   "execution_count": 46,
   "id": "142e89e3",
   "metadata": {},
   "outputs": [],
   "source": [
    "masks1 = project1.masks\n",
    "masks2 = project2.masks\n",
    "masks3 = project3.masks\n",
    "masks4 = project4.masks"
   ]
  },
  {
   "cell_type": "code",
   "execution_count": 53,
   "id": "de690a59",
   "metadata": {},
   "outputs": [],
   "source": [
    "points1 = np.asarray(project1.pcd.points)\n",
    "colors1 = np.asarray(project1.pcd.colors)\n",
    "\n",
    "points2 = np.asarray(project2.pcd.points)\n",
    "colors2 = np.asarray(project2.pcd.colors)\n",
    "\n",
    "points3 = np.asarray(project3.pcd.points)\n",
    "colors3 = np.asarray(project3.pcd.colors)\n",
    "\n",
    "points4 = np.asarray(project4.pcd.points)\n",
    "colors4 = np.asarray(project4.pcd.colors)"
   ]
  }
 ],
 "metadata": {
  "kernelspec": {
   "display_name": "Python 3 (ipykernel)",
   "language": "python",
   "name": "python3"
  },
  "language_info": {
   "codemirror_mode": {
    "name": "ipython",
    "version": 3
   },
   "file_extension": ".py",
   "mimetype": "text/x-python",
   "name": "python",
   "nbconvert_exporter": "python",
   "pygments_lexer": "ipython3",
   "version": "3.9.18"
  }
 },
 "nbformat": 4,
 "nbformat_minor": 5
}
